{
 "cells": [
  {
   "cell_type": "code",
   "execution_count": 1,
   "metadata": {},
   "outputs": [],
   "source": [
    "import numpy as np\n",
    "import pandas as pd\n",
    "import matplotlib.pyplot as plt\n",
    "from scipy.stats import randint\n",
    "from DataPreparetion import DataPreparetion\n",
    "from sklearn.linear_model import LogisticRegression\n",
    "from sklearn.ensemble import RandomForestClassifier\n",
    "from sklearn.model_selection import (\n",
    "    GridSearchCV,\n",
    "    train_test_split,\n",
    "    RandomizedSearchCV\n",
    ")\n",
    "from sklearn.metrics import (\n",
    "    ConfusionMatrixDisplay,\n",
    "    balanced_accuracy_score,\n",
    "    confusion_matrix, \n",
    "    accuracy_score, \n",
    "    precision_score, \n",
    "    recall_score, \n",
    "    f1_score, \n",
    "    roc_auc_score\n",
    ")\n"
   ]
  },
  {
   "cell_type": "markdown",
   "metadata": {},
   "source": [
    "# Modelo de Previsão de Churn:"
   ]
  },
  {
   "cell_type": "markdown",
   "metadata": {},
   "source": [
    "Preveja os usuários com alta chance de deixar seu Streaming:"
   ]
  },
  {
   "cell_type": "markdown",
   "metadata": {},
   "source": [
    "## Dataframe:"
   ]
  },
  {
   "cell_type": "code",
   "execution_count": 2,
   "metadata": {},
   "outputs": [],
   "source": [
    "path = r'../data/streaming_data.csv'\n",
    "df = pd.read_csv(\n",
    "    filepath_or_buffer=path,\n",
    "    decimal='.',\n",
    "    sep=','\n",
    ")"
   ]
  },
  {
   "cell_type": "code",
   "execution_count": 3,
   "metadata": {},
   "outputs": [
    {
     "data": {
      "text/html": [
       "<div>\n",
       "<style scoped>\n",
       "    .dataframe tbody tr th:only-of-type {\n",
       "        vertical-align: middle;\n",
       "    }\n",
       "\n",
       "    .dataframe tbody tr th {\n",
       "        vertical-align: top;\n",
       "    }\n",
       "\n",
       "    .dataframe thead th {\n",
       "        text-align: right;\n",
       "    }\n",
       "</style>\n",
       "<table border=\"1\" class=\"dataframe\">\n",
       "  <thead>\n",
       "    <tr style=\"text-align: right;\">\n",
       "      <th></th>\n",
       "      <th>Age</th>\n",
       "      <th>Gender</th>\n",
       "      <th>Time_on_platform</th>\n",
       "      <th>Devices_connected</th>\n",
       "      <th>Subscription_type</th>\n",
       "      <th>Num_streaming_services</th>\n",
       "      <th>Num_active_profiles</th>\n",
       "      <th>Avg_rating</th>\n",
       "      <th>Churned</th>\n",
       "      <th>User_id</th>\n",
       "    </tr>\n",
       "  </thead>\n",
       "  <tbody>\n",
       "    <tr>\n",
       "      <th>0</th>\n",
       "      <td>49.0</td>\n",
       "      <td>Male</td>\n",
       "      <td>4700.0</td>\n",
       "      <td>3.0</td>\n",
       "      <td>Basic</td>\n",
       "      <td>NaN</td>\n",
       "      <td>3</td>\n",
       "      <td>NaN</td>\n",
       "      <td>0.0</td>\n",
       "      <td>a271aa56-bcfc-4f0a-91f7-b773de6b86a4</td>\n",
       "    </tr>\n",
       "    <tr>\n",
       "      <th>1</th>\n",
       "      <td>69.0</td>\n",
       "      <td>Female</td>\n",
       "      <td>6107.0</td>\n",
       "      <td>2.0</td>\n",
       "      <td>Standard</td>\n",
       "      <td>NaN</td>\n",
       "      <td>1</td>\n",
       "      <td>2.14</td>\n",
       "      <td>0.0</td>\n",
       "      <td>fe14b048-770b-4619-8ec6-485b0969ae31</td>\n",
       "    </tr>\n",
       "    <tr>\n",
       "      <th>2</th>\n",
       "      <td>44.0</td>\n",
       "      <td>Male</td>\n",
       "      <td>6374.0</td>\n",
       "      <td>3.0</td>\n",
       "      <td>Premium</td>\n",
       "      <td>1.0</td>\n",
       "      <td>1</td>\n",
       "      <td>1.91</td>\n",
       "      <td>1.0</td>\n",
       "      <td>0283dffd-6684-4a05-9c6f-c02098a6849d</td>\n",
       "    </tr>\n",
       "  </tbody>\n",
       "</table>\n",
       "</div>"
      ],
      "text/plain": [
       "    Age  Gender  Time_on_platform  Devices_connected Subscription_type  \\\n",
       "0  49.0    Male            4700.0                3.0             Basic   \n",
       "1  69.0  Female            6107.0                2.0          Standard   \n",
       "2  44.0    Male            6374.0                3.0           Premium   \n",
       "\n",
       "   Num_streaming_services  Num_active_profiles  Avg_rating  Churned  \\\n",
       "0                     NaN                    3         NaN      0.0   \n",
       "1                     NaN                    1        2.14      0.0   \n",
       "2                     1.0                    1        1.91      1.0   \n",
       "\n",
       "                                User_id  \n",
       "0  a271aa56-bcfc-4f0a-91f7-b773de6b86a4  \n",
       "1  fe14b048-770b-4619-8ec6-485b0969ae31  \n",
       "2  0283dffd-6684-4a05-9c6f-c02098a6849d  "
      ]
     },
     "metadata": {},
     "output_type": "display_data"
    }
   ],
   "source": [
    "display(df.head(3))"
   ]
  },
  {
   "cell_type": "markdown",
   "metadata": {},
   "source": [
    "## Código:"
   ]
  },
  {
   "cell_type": "code",
   "execution_count": 4,
   "metadata": {},
   "outputs": [],
   "source": [
    "class ChurnPrediction(DataPreparetion):\n",
    "    def training(self, x: pd.DataFrame, y: pd.DataFrame, modelo):\n",
    "        x_train, x_test, y_train, y_test = train_test_split(\n",
    "            x, \n",
    "            y, \n",
    "            test_size=0.2, \n",
    "            random_state=42\n",
    "        )\n",
    "\n",
    "        training = (\n",
    "            modelo.fit(x_train, y_train)\n",
    "        )\n",
    "\n",
    "        y_pred = training.predict(x_test)\n",
    "\n",
    "        return training, y_pred, x_train, x_test, y_train, y_test\n",
    "    \n",
    "    def predictions(self, training, input):\n",
    "        return training.predict(input)\n",
    "    \n",
    "    def tunning_grid_search(self, training, parameters, x_train, y_train):\n",
    "        # Criamos um GridSearch passando o modelo, os parâmetros, a métrica que queremos otimizar. \n",
    "        grid_search = GridSearchCV(training, parameters, scoring='roc_auc', cv=5, n_jobs=-1)\n",
    "\n",
    "        training = grid_search.fit(x_train, y_train)\n",
    "\n",
    "        parameters = training.best_estimator_.get_params()\n",
    "\n",
    "        return parameters, grid_search\n",
    "    \n",
    "    def tunning_random_search(self, training, parameters, x_train, y_train):\n",
    "        # Realize a busca aleatória para encontrar a melhor combinação de hiperparâmetros\n",
    "        random_search = RandomizedSearchCV(training, parameters, n_iter=10, cv=5)\n",
    "\n",
    "        training = random_search.fit(x_train, y_train)\n",
    "\n",
    "        parameters = training.best_estimator_.get_params()\n",
    "\n",
    "        return parameters, random_search\n",
    "    \n",
    "    def gráfico_matrix_confusão(self, training, x_test, y_test):\n",
    "        fig = plt.figure(figsize=(40,20))\n",
    "\n",
    "        gráfico_de_métricas = ConfusionMatrixDisplay.from_estimator(training, x_test, y_test, values_format='d');\n",
    "\n",
    "        return gráfico_de_métricas\n",
    "\n",
    "    def avaliar_desempenho(self, y_true, y_pred):\n",
    "        # Matriz de Confusão\n",
    "        matriz_confusao = confusion_matrix(y_true, y_pred)\n",
    "        print(\"Matriz de Confusão:\")\n",
    "        print(matriz_confusao)\n",
    "\n",
    "        # Acurácia\n",
    "        acuracia = accuracy_score(y_true, y_pred)\n",
    "        print(\"Acurácia:\", acuracia)\n",
    "\n",
    "        # Precisão\n",
    "        precisao = precision_score(y_true, y_pred)\n",
    "        print(\"Precisão:\", precisao)\n",
    "\n",
    "        # Recall\n",
    "        recall = recall_score(y_true, y_pred)\n",
    "        print(\"Recall:\", recall)\n",
    "\n",
    "        # F1-Score\n",
    "        f1 = f1_score(y_true, y_pred)\n",
    "        print(\"F1-Score:\", f1)\n",
    "\n",
    "        # AUC-ROC\n",
    "        auc_roc = roc_auc_score(y_true, y_pred)\n",
    "        print(\"AUC-ROC:\", auc_roc)\n",
    "\n",
    "    def métrica(self, training, x_train, x_test, y_train, y_test):\n",
    "        print(f\"Acurácia (Treino): {accuracy_score(y_train, training.predict(x_train))}\")\n",
    "        print(f\"Acurácia (Teste): {accuracy_score(y_test, training.predict(x_test))}\")\n",
    "        print(\"====================================\")\n",
    "        print(f\"Acurácia Balanceada (Treino): {balanced_accuracy_score(y_train, training.predict(x_train))}\")\n",
    "        print(f\"Acurácia Balanceada (Teste): {balanced_accuracy_score(y_test, training.predict(x_test))}\")\n",
    "        print(\"====================================\")\n",
    "        print(f\"Precision (Treino): {precision_score(y_train, training.predict(x_train))}\")\n",
    "        print(f\"Precision (Teste): {precision_score(y_test, training.predict(x_test))}\")\n",
    "        print(\"====================================\")\n",
    "        print(f\"Recall (Treino): {recall_score(y_train, training.predict(x_train))}\")\n",
    "        print(f\"Recall (Teste): {recall_score(y_test, training.predict(x_test))}\")\n",
    "        print(\"====================================\")\n",
    "        print(f\"F1-Score (Treino): {f1_score(y_train, training.predict(x_train))}\")\n",
    "        print(f\"F1-Score (Teste): {f1_score(y_test, training.predict(x_test))}\")\n",
    "        print(\"====================================\")\n",
    "        print(f\"ROCAUC (Treino): {roc_auc_score(y_train, training.predict_proba(x_train)[:,1])}\")\n",
    "        print(f\"ROCAUC (Teste): {roc_auc_score(y_test, training.predict_proba(x_test)[:,1])}\")\n",
    "\n",
    "\n",
    "if __name__ == '__main__':\n",
    "    churn_prediction = ChurnPrediction()"
   ]
  },
  {
   "cell_type": "markdown",
   "metadata": {},
   "source": [
    "## Output:"
   ]
  },
  {
   "cell_type": "markdown",
   "metadata": {},
   "source": [
    "### Data Understanding:"
   ]
  },
  {
   "cell_type": "code",
   "execution_count": 5,
   "metadata": {},
   "outputs": [
    {
     "data": {
      "text/html": [
       "<div>\n",
       "<style scoped>\n",
       "    .dataframe tbody tr th:only-of-type {\n",
       "        vertical-align: middle;\n",
       "    }\n",
       "\n",
       "    .dataframe tbody tr th {\n",
       "        vertical-align: top;\n",
       "    }\n",
       "\n",
       "    .dataframe thead th {\n",
       "        text-align: right;\n",
       "    }\n",
       "</style>\n",
       "<table border=\"1\" class=\"dataframe\">\n",
       "  <thead>\n",
       "    <tr style=\"text-align: right;\">\n",
       "      <th></th>\n",
       "      <th>Age</th>\n",
       "      <th>Gender</th>\n",
       "      <th>Time_on_platform</th>\n",
       "      <th>Devices_connected</th>\n",
       "      <th>Subscription_type</th>\n",
       "      <th>Num_streaming_services</th>\n",
       "      <th>Num_active_profiles</th>\n",
       "      <th>Avg_rating</th>\n",
       "      <th>Churned</th>\n",
       "      <th>User_id</th>\n",
       "    </tr>\n",
       "  </thead>\n",
       "  <tbody>\n",
       "    <tr>\n",
       "      <th>0</th>\n",
       "      <td>49.0</td>\n",
       "      <td>Male</td>\n",
       "      <td>4700.0</td>\n",
       "      <td>3.0</td>\n",
       "      <td>Basic</td>\n",
       "      <td>NaN</td>\n",
       "      <td>3</td>\n",
       "      <td>NaN</td>\n",
       "      <td>0.0</td>\n",
       "      <td>a271aa56-bcfc-4f0a-91f7-b773de6b86a4</td>\n",
       "    </tr>\n",
       "    <tr>\n",
       "      <th>1</th>\n",
       "      <td>69.0</td>\n",
       "      <td>Female</td>\n",
       "      <td>6107.0</td>\n",
       "      <td>2.0</td>\n",
       "      <td>Standard</td>\n",
       "      <td>NaN</td>\n",
       "      <td>1</td>\n",
       "      <td>2.14</td>\n",
       "      <td>0.0</td>\n",
       "      <td>fe14b048-770b-4619-8ec6-485b0969ae31</td>\n",
       "    </tr>\n",
       "    <tr>\n",
       "      <th>2</th>\n",
       "      <td>44.0</td>\n",
       "      <td>Male</td>\n",
       "      <td>6374.0</td>\n",
       "      <td>3.0</td>\n",
       "      <td>Premium</td>\n",
       "      <td>1.0</td>\n",
       "      <td>1</td>\n",
       "      <td>1.91</td>\n",
       "      <td>1.0</td>\n",
       "      <td>0283dffd-6684-4a05-9c6f-c02098a6849d</td>\n",
       "    </tr>\n",
       "  </tbody>\n",
       "</table>\n",
       "</div>"
      ],
      "text/plain": [
       "    Age  Gender  Time_on_platform  Devices_connected Subscription_type  \\\n",
       "0  49.0    Male            4700.0                3.0             Basic   \n",
       "1  69.0  Female            6107.0                2.0          Standard   \n",
       "2  44.0    Male            6374.0                3.0           Premium   \n",
       "\n",
       "   Num_streaming_services  Num_active_profiles  Avg_rating  Churned  \\\n",
       "0                     NaN                    3         NaN      0.0   \n",
       "1                     NaN                    1        2.14      0.0   \n",
       "2                     1.0                    1        1.91      1.0   \n",
       "\n",
       "                                User_id  \n",
       "0  a271aa56-bcfc-4f0a-91f7-b773de6b86a4  \n",
       "1  fe14b048-770b-4619-8ec6-485b0969ae31  \n",
       "2  0283dffd-6684-4a05-9c6f-c02098a6849d  "
      ]
     },
     "metadata": {},
     "output_type": "display_data"
    }
   ],
   "source": [
    "display(df.head(3))"
   ]
  },
  {
   "cell_type": "code",
   "execution_count": 6,
   "metadata": {},
   "outputs": [
    {
     "data": {
      "text/plain": [
       "Index(['Age', 'Gender', 'Time_on_platform', 'Devices_connected',\n",
       "       'Subscription_type', 'Num_streaming_services', 'Num_active_profiles',\n",
       "       'Avg_rating', 'Churned', 'User_id'],\n",
       "      dtype='object')"
      ]
     },
     "execution_count": 6,
     "metadata": {},
     "output_type": "execute_result"
    }
   ],
   "source": [
    "df.columns"
   ]
  },
  {
   "cell_type": "code",
   "execution_count": 7,
   "metadata": {},
   "outputs": [
    {
     "name": "stdout",
     "output_type": "stream",
     "text": [
      "Linhas: 77884 \n",
      "Colunas: 10\n"
     ]
    }
   ],
   "source": [
    "churn_prediction.verificando_as_dimensões_do_dataframe(\n",
    "    dataframe=df\n",
    ")"
   ]
  },
  {
   "cell_type": "code",
   "execution_count": 8,
   "metadata": {},
   "outputs": [
    {
     "data": {
      "text/html": [
       "<div>\n",
       "<style scoped>\n",
       "    .dataframe tbody tr th:only-of-type {\n",
       "        vertical-align: middle;\n",
       "    }\n",
       "\n",
       "    .dataframe tbody tr th {\n",
       "        vertical-align: top;\n",
       "    }\n",
       "\n",
       "    .dataframe thead th {\n",
       "        text-align: right;\n",
       "    }\n",
       "</style>\n",
       "<table border=\"1\" class=\"dataframe\">\n",
       "  <thead>\n",
       "    <tr style=\"text-align: right;\">\n",
       "      <th></th>\n",
       "      <th>Age</th>\n",
       "      <th>Time_on_platform</th>\n",
       "      <th>Devices_connected</th>\n",
       "      <th>Num_streaming_services</th>\n",
       "      <th>Num_active_profiles</th>\n",
       "      <th>Avg_rating</th>\n",
       "      <th>Churned</th>\n",
       "    </tr>\n",
       "  </thead>\n",
       "  <tbody>\n",
       "    <tr>\n",
       "      <th>count</th>\n",
       "      <td>66607.00</td>\n",
       "      <td>56464.00</td>\n",
       "      <td>52696.00</td>\n",
       "      <td>9572.00</td>\n",
       "      <td>77884.00</td>\n",
       "      <td>60614.00</td>\n",
       "      <td>61148.00</td>\n",
       "    </tr>\n",
       "    <tr>\n",
       "      <th>mean</th>\n",
       "      <td>43.51</td>\n",
       "      <td>4385.85</td>\n",
       "      <td>3.00</td>\n",
       "      <td>2.50</td>\n",
       "      <td>3.00</td>\n",
       "      <td>3.00</td>\n",
       "      <td>0.24</td>\n",
       "    </tr>\n",
       "    <tr>\n",
       "      <th>std</th>\n",
       "      <td>15.04</td>\n",
       "      <td>2526.58</td>\n",
       "      <td>1.41</td>\n",
       "      <td>1.12</td>\n",
       "      <td>1.41</td>\n",
       "      <td>1.15</td>\n",
       "      <td>0.43</td>\n",
       "    </tr>\n",
       "    <tr>\n",
       "      <th>min</th>\n",
       "      <td>18.00</td>\n",
       "      <td>0.00</td>\n",
       "      <td>1.00</td>\n",
       "      <td>1.00</td>\n",
       "      <td>1.00</td>\n",
       "      <td>1.00</td>\n",
       "      <td>0.00</td>\n",
       "    </tr>\n",
       "    <tr>\n",
       "      <th>25%</th>\n",
       "      <td>30.00</td>\n",
       "      <td>2196.00</td>\n",
       "      <td>2.00</td>\n",
       "      <td>1.00</td>\n",
       "      <td>2.00</td>\n",
       "      <td>1.99</td>\n",
       "      <td>0.00</td>\n",
       "    </tr>\n",
       "    <tr>\n",
       "      <th>50%</th>\n",
       "      <td>43.00</td>\n",
       "      <td>4384.00</td>\n",
       "      <td>3.00</td>\n",
       "      <td>2.00</td>\n",
       "      <td>3.00</td>\n",
       "      <td>3.01</td>\n",
       "      <td>0.00</td>\n",
       "    </tr>\n",
       "    <tr>\n",
       "      <th>75%</th>\n",
       "      <td>57.00</td>\n",
       "      <td>6573.00</td>\n",
       "      <td>4.00</td>\n",
       "      <td>4.00</td>\n",
       "      <td>4.00</td>\n",
       "      <td>4.00</td>\n",
       "      <td>0.00</td>\n",
       "    </tr>\n",
       "    <tr>\n",
       "      <th>max</th>\n",
       "      <td>69.00</td>\n",
       "      <td>8759.00</td>\n",
       "      <td>5.00</td>\n",
       "      <td>4.00</td>\n",
       "      <td>5.00</td>\n",
       "      <td>5.00</td>\n",
       "      <td>1.00</td>\n",
       "    </tr>\n",
       "  </tbody>\n",
       "</table>\n",
       "</div>"
      ],
      "text/plain": [
       "            Age  Time_on_platform  Devices_connected  Num_streaming_services  \\\n",
       "count  66607.00          56464.00           52696.00                 9572.00   \n",
       "mean      43.51           4385.85               3.00                    2.50   \n",
       "std       15.04           2526.58               1.41                    1.12   \n",
       "min       18.00              0.00               1.00                    1.00   \n",
       "25%       30.00           2196.00               2.00                    1.00   \n",
       "50%       43.00           4384.00               3.00                    2.00   \n",
       "75%       57.00           6573.00               4.00                    4.00   \n",
       "max       69.00           8759.00               5.00                    4.00   \n",
       "\n",
       "       Num_active_profiles  Avg_rating   Churned  \n",
       "count             77884.00    60614.00  61148.00  \n",
       "mean                  3.00        3.00      0.24  \n",
       "std                   1.41        1.15      0.43  \n",
       "min                   1.00        1.00      0.00  \n",
       "25%                   2.00        1.99      0.00  \n",
       "50%                   3.00        3.01      0.00  \n",
       "75%                   4.00        4.00      0.00  \n",
       "max                   5.00        5.00      1.00  "
      ]
     },
     "execution_count": 8,
     "metadata": {},
     "output_type": "execute_result"
    }
   ],
   "source": [
    "churn_prediction.descrição(\n",
    "    dataframe=df\n",
    ")"
   ]
  },
  {
   "cell_type": "code",
   "execution_count": 9,
   "metadata": {},
   "outputs": [
    {
     "data": {
      "text/html": [
       "<div>\n",
       "<style scoped>\n",
       "    .dataframe tbody tr th:only-of-type {\n",
       "        vertical-align: middle;\n",
       "    }\n",
       "\n",
       "    .dataframe tbody tr th {\n",
       "        vertical-align: top;\n",
       "    }\n",
       "\n",
       "    .dataframe thead th {\n",
       "        text-align: right;\n",
       "    }\n",
       "</style>\n",
       "<table border=\"1\" class=\"dataframe\">\n",
       "  <thead>\n",
       "    <tr style=\"text-align: right;\">\n",
       "      <th></th>\n",
       "      <th>Tipos</th>\n",
       "    </tr>\n",
       "  </thead>\n",
       "  <tbody>\n",
       "    <tr>\n",
       "      <th>Age</th>\n",
       "      <td>float64</td>\n",
       "    </tr>\n",
       "    <tr>\n",
       "      <th>Gender</th>\n",
       "      <td>object</td>\n",
       "    </tr>\n",
       "    <tr>\n",
       "      <th>Time_on_platform</th>\n",
       "      <td>float64</td>\n",
       "    </tr>\n",
       "    <tr>\n",
       "      <th>Devices_connected</th>\n",
       "      <td>float64</td>\n",
       "    </tr>\n",
       "    <tr>\n",
       "      <th>Subscription_type</th>\n",
       "      <td>object</td>\n",
       "    </tr>\n",
       "    <tr>\n",
       "      <th>Num_streaming_services</th>\n",
       "      <td>float64</td>\n",
       "    </tr>\n",
       "    <tr>\n",
       "      <th>Num_active_profiles</th>\n",
       "      <td>int64</td>\n",
       "    </tr>\n",
       "    <tr>\n",
       "      <th>Avg_rating</th>\n",
       "      <td>float64</td>\n",
       "    </tr>\n",
       "    <tr>\n",
       "      <th>Churned</th>\n",
       "      <td>float64</td>\n",
       "    </tr>\n",
       "    <tr>\n",
       "      <th>User_id</th>\n",
       "      <td>object</td>\n",
       "    </tr>\n",
       "  </tbody>\n",
       "</table>\n",
       "</div>"
      ],
      "text/plain": [
       "                          Tipos\n",
       "Age                     float64\n",
       "Gender                   object\n",
       "Time_on_platform        float64\n",
       "Devices_connected       float64\n",
       "Subscription_type        object\n",
       "Num_streaming_services  float64\n",
       "Num_active_profiles       int64\n",
       "Avg_rating              float64\n",
       "Churned                 float64\n",
       "User_id                  object"
      ]
     },
     "execution_count": 9,
     "metadata": {},
     "output_type": "execute_result"
    }
   ],
   "source": [
    "churn_prediction.verificando_tipos(\n",
    "    dataframe=df\n",
    ")"
   ]
  },
  {
   "cell_type": "code",
   "execution_count": 10,
   "metadata": {},
   "outputs": [
    {
     "data": {
      "text/html": [
       "<style type=\"text/css\">\n",
       "</style>\n",
       "<table id=\"T_d9271\">\n",
       "  <thead>\n",
       "    <tr>\n",
       "      <th class=\"blank level0\" >&nbsp;</th>\n",
       "      <th id=\"T_d9271_level0_col0\" class=\"col_heading level0 col0\" >Quantidade</th>\n",
       "      <th id=\"T_d9271_level0_col1\" class=\"col_heading level0 col1\" >Porcentagem</th>\n",
       "    </tr>\n",
       "  </thead>\n",
       "  <tbody>\n",
       "    <tr>\n",
       "      <th id=\"T_d9271_level0_row0\" class=\"row_heading level0 row0\" >Age</th>\n",
       "      <td id=\"T_d9271_row0_col0\" class=\"data row0 col0\" >11277</td>\n",
       "      <td id=\"T_d9271_row0_col1\" class=\"data row0 col1\" >14.48%</td>\n",
       "    </tr>\n",
       "    <tr>\n",
       "      <th id=\"T_d9271_level0_row1\" class=\"row_heading level0 row1\" >Gender</th>\n",
       "      <td id=\"T_d9271_row1_col0\" class=\"data row1 col0\" >14516</td>\n",
       "      <td id=\"T_d9271_row1_col1\" class=\"data row1 col1\" >18.64%</td>\n",
       "    </tr>\n",
       "    <tr>\n",
       "      <th id=\"T_d9271_level0_row2\" class=\"row_heading level0 row2\" >Time_on_platform</th>\n",
       "      <td id=\"T_d9271_row2_col0\" class=\"data row2 col0\" >21420</td>\n",
       "      <td id=\"T_d9271_row2_col1\" class=\"data row2 col1\" >27.50%</td>\n",
       "    </tr>\n",
       "    <tr>\n",
       "      <th id=\"T_d9271_level0_row3\" class=\"row_heading level0 row3\" >Devices_connected</th>\n",
       "      <td id=\"T_d9271_row3_col0\" class=\"data row3 col0\" >25188</td>\n",
       "      <td id=\"T_d9271_row3_col1\" class=\"data row3 col1\" >32.34%</td>\n",
       "    </tr>\n",
       "    <tr>\n",
       "      <th id=\"T_d9271_level0_row4\" class=\"row_heading level0 row4\" >Subscription_type</th>\n",
       "      <td id=\"T_d9271_row4_col0\" class=\"data row4 col0\" >25221</td>\n",
       "      <td id=\"T_d9271_row4_col1\" class=\"data row4 col1\" >32.38%</td>\n",
       "    </tr>\n",
       "    <tr>\n",
       "      <th id=\"T_d9271_level0_row5\" class=\"row_heading level0 row5\" >Num_streaming_services</th>\n",
       "      <td id=\"T_d9271_row5_col0\" class=\"data row5 col0\" >68312</td>\n",
       "      <td id=\"T_d9271_row5_col1\" class=\"data row5 col1\" >87.71%</td>\n",
       "    </tr>\n",
       "    <tr>\n",
       "      <th id=\"T_d9271_level0_row6\" class=\"row_heading level0 row6\" >Num_active_profiles</th>\n",
       "      <td id=\"T_d9271_row6_col0\" class=\"data row6 col0\" >0</td>\n",
       "      <td id=\"T_d9271_row6_col1\" class=\"data row6 col1\" >0.00%</td>\n",
       "    </tr>\n",
       "    <tr>\n",
       "      <th id=\"T_d9271_level0_row7\" class=\"row_heading level0 row7\" >Avg_rating</th>\n",
       "      <td id=\"T_d9271_row7_col0\" class=\"data row7 col0\" >17270</td>\n",
       "      <td id=\"T_d9271_row7_col1\" class=\"data row7 col1\" >22.17%</td>\n",
       "    </tr>\n",
       "    <tr>\n",
       "      <th id=\"T_d9271_level0_row8\" class=\"row_heading level0 row8\" >Churned</th>\n",
       "      <td id=\"T_d9271_row8_col0\" class=\"data row8 col0\" >16736</td>\n",
       "      <td id=\"T_d9271_row8_col1\" class=\"data row8 col1\" >21.49%</td>\n",
       "    </tr>\n",
       "    <tr>\n",
       "      <th id=\"T_d9271_level0_row9\" class=\"row_heading level0 row9\" >User_id</th>\n",
       "      <td id=\"T_d9271_row9_col0\" class=\"data row9 col0\" >0</td>\n",
       "      <td id=\"T_d9271_row9_col1\" class=\"data row9 col1\" >0.00%</td>\n",
       "    </tr>\n",
       "  </tbody>\n",
       "</table>\n"
      ],
      "text/plain": [
       "<pandas.io.formats.style.Styler at 0x7f7f62d6f3d0>"
      ]
     },
     "execution_count": 10,
     "metadata": {},
     "output_type": "execute_result"
    }
   ],
   "source": [
    "churn_prediction.verificando_valores_nulos(\n",
    "    dataframe=df\n",
    ")"
   ]
  },
  {
   "cell_type": "markdown",
   "metadata": {},
   "source": [
    "### Data Preparetion:"
   ]
  },
  {
   "cell_type": "code",
   "execution_count": 11,
   "metadata": {},
   "outputs": [],
   "source": [
    "df_copy = df.copy()"
   ]
  },
  {
   "cell_type": "code",
   "execution_count": 12,
   "metadata": {},
   "outputs": [],
   "source": [
    "colunas = [\n",
    "    'Time_on_platform', \n",
    "    'Num_streaming_services', \n",
    "    'Churned', \n",
    "    'Avg_rating', \n",
    "    'Devices_connected',\n",
    "]"
   ]
  },
  {
   "cell_type": "code",
   "execution_count": 13,
   "metadata": {},
   "outputs": [],
   "source": [
    "df[colunas] = churn_prediction.substituindo_valores(\n",
    "    dataframe=df,\n",
    "    colunas=colunas,\n",
    "    valores={\n",
    "        np.nan:  0,\n",
    "    }\n",
    ")"
   ]
  },
  {
   "cell_type": "code",
   "execution_count": 14,
   "metadata": {},
   "outputs": [],
   "source": [
    "colunas = ['Gender', 'Subscription_type', 'Age']"
   ]
  },
  {
   "cell_type": "code",
   "execution_count": 15,
   "metadata": {},
   "outputs": [],
   "source": [
    "df = churn_prediction.removendo_nulos(\n",
    "    dataframe=df,\n",
    "    colunas=colunas\n",
    ")"
   ]
  },
  {
   "cell_type": "code",
   "execution_count": 16,
   "metadata": {},
   "outputs": [],
   "source": [
    "colunas = ['Churned', 'Gender']"
   ]
  },
  {
   "cell_type": "code",
   "execution_count": 17,
   "metadata": {},
   "outputs": [],
   "source": [
    "for coluna in colunas:\n",
    "    df[coluna] = churn_prediction.label_endcode(\n",
    "        dataframe=df[coluna]\n",
    "    )"
   ]
  },
  {
   "cell_type": "code",
   "execution_count": 18,
   "metadata": {},
   "outputs": [],
   "source": [
    "colunas_float = df.select_dtypes(include='float').columns"
   ]
  },
  {
   "cell_type": "code",
   "execution_count": 19,
   "metadata": {},
   "outputs": [],
   "source": [
    "df[colunas_float] = churn_prediction.convertendo_colunas(\n",
    "    dataframe=df,\n",
    "    colunas=colunas_float,\n",
    "    tipo='int'\n",
    ")"
   ]
  },
  {
   "cell_type": "code",
   "execution_count": 20,
   "metadata": {},
   "outputs": [],
   "source": [
    "dataframe, colunas = churn_prediction.dummy(\n",
    "    dataframe=df,\n",
    "    colunas=['Subscription_type',]\n",
    ")\n",
    "\n",
    "df[colunas] = dataframe[colunas]"
   ]
  },
  {
   "cell_type": "code",
   "execution_count": 21,
   "metadata": {},
   "outputs": [],
   "source": [
    "df = churn_prediction.removendo_colunas(\n",
    "    dataframe=df,\n",
    "    colunas=['Subscription_type']\n",
    ")"
   ]
  },
  {
   "cell_type": "markdown",
   "metadata": {},
   "source": [
    "### Modeling:"
   ]
  },
  {
   "cell_type": "code",
   "execution_count": 22,
   "metadata": {},
   "outputs": [],
   "source": [
    "x = df.drop(labels=['Churned', 'User_id'], axis=1)\n",
    "y = df['Churned']"
   ]
  },
  {
   "cell_type": "markdown",
   "metadata": {},
   "source": [
    "### Regressão Logística"
   ]
  },
  {
   "cell_type": "code",
   "execution_count": 23,
   "metadata": {},
   "outputs": [],
   "source": [
    "modelo = LogisticRegression()"
   ]
  },
  {
   "cell_type": "code",
   "execution_count": 24,
   "metadata": {},
   "outputs": [
    {
     "name": "stderr",
     "output_type": "stream",
     "text": [
      "/home/guerrlr0/anaconda3/envs/.churn/lib/python3.11/site-packages/sklearn/linear_model/_logistic.py:458: ConvergenceWarning: lbfgs failed to converge (status=1):\n",
      "STOP: TOTAL NO. of ITERATIONS REACHED LIMIT.\n",
      "\n",
      "Increase the number of iterations (max_iter) or scale the data as shown in:\n",
      "    https://scikit-learn.org/stable/modules/preprocessing.html\n",
      "Please also refer to the documentation for alternative solver options:\n",
      "    https://scikit-learn.org/stable/modules/linear_model.html#logistic-regression\n",
      "  n_iter_i = _check_optimize_result(\n"
     ]
    }
   ],
   "source": [
    "training, y_pred, x_train, x_test, y_train, y_test = churn_prediction.training(\n",
    "    x=x,\n",
    "    y=y,\n",
    "    modelo=modelo\n",
    ");"
   ]
  },
  {
   "cell_type": "code",
   "execution_count": 25,
   "metadata": {},
   "outputs": [
    {
     "data": {
      "text/plain": [
       "<Figure size 4000x2000 with 0 Axes>"
      ]
     },
     "metadata": {},
     "output_type": "display_data"
    },
    {
     "data": {
      "image/png": "[encoded data removed]",
      "text/plain": [
       "<Figure size 640x480 with 2 Axes>"
      ]
     },
     "metadata": {},
     "output_type": "display_data"
    }
   ],
   "source": [
    "churn_prediction.gráfico_matrix_confusão(\n",
    "    training=training,\n",
    "    y_test=y_test,\n",
    "    x_test=x_test,\n",
    ");"
   ]
  },
  {
   "cell_type": "code",
   "execution_count": 26,
   "metadata": {},
   "outputs": [
    {
     "name": "stdout",
     "output_type": "stream",
     "text": [
      "Matriz de Confusão:\n",
      "[[5900    0]\n",
      " [1403    0]]\n",
      "Acurácia: 0.8078871696563056\n",
      "Precisão: 0.0\n",
      "Recall: 0.0\n",
      "F1-Score: 0.0\n",
      "AUC-ROC: 0.5\n"
     ]
    },
    {
     "name": "stderr",
     "output_type": "stream",
     "text": [
      "/home/guerrlr0/anaconda3/envs/.churn/lib/python3.11/site-packages/sklearn/metrics/_classification.py:1344: UndefinedMetricWarning: Precision is ill-defined and being set to 0.0 due to no predicted samples. Use `zero_division` parameter to control this behavior.\n",
      "  _warn_prf(average, modifier, msg_start, len(result))\n"
     ]
    }
   ],
   "source": [
    "churn_prediction.avaliar_desempenho(\n",
    "    y_true=y_test,\n",
    "    y_pred=y_pred\n",
    ")"
   ]
  },
  {
   "cell_type": "code",
   "execution_count": 27,
   "metadata": {},
   "outputs": [
    {
     "name": "stdout",
     "output_type": "stream",
     "text": [
      "Acurácia (Treino): 0.8064836368615638\n",
      "Acurácia (Teste): 0.8078871696563056\n",
      "====================================\n",
      "Acurácia Balanceada (Treino): 0.5\n",
      "Acurácia Balanceada (Teste): 0.5\n",
      "====================================\n",
      "Precision (Treino): 0.0\n",
      "Precision (Teste): 0.0\n",
      "====================================\n",
      "Recall (Treino): 0.0\n",
      "Recall (Teste): 0.0\n",
      "====================================\n",
      "F1-Score (Treino): 0.0\n",
      "F1-Score (Teste): 0.0\n",
      "====================================\n",
      "ROCAUC (Treino): 0.5012715853525496\n",
      "ROCAUC (Teste): 0.5088121096439833\n"
     ]
    },
    {
     "name": "stderr",
     "output_type": "stream",
     "text": [
      "/home/guerrlr0/anaconda3/envs/.churn/lib/python3.11/site-packages/sklearn/metrics/_classification.py:1344: UndefinedMetricWarning: Precision is ill-defined and being set to 0.0 due to no predicted samples. Use `zero_division` parameter to control this behavior.\n",
      "  _warn_prf(average, modifier, msg_start, len(result))\n",
      "/home/guerrlr0/anaconda3/envs/.churn/lib/python3.11/site-packages/sklearn/metrics/_classification.py:1344: UndefinedMetricWarning: Precision is ill-defined and being set to 0.0 due to no predicted samples. Use `zero_division` parameter to control this behavior.\n",
      "  _warn_prf(average, modifier, msg_start, len(result))\n"
     ]
    }
   ],
   "source": [
    "churn_prediction.métrica(\n",
    "    training=training,\n",
    "    x_train=x_train,\n",
    "    x_test=x_test,\n",
    "    y_train=y_train,\n",
    "    y_test=y_test,\n",
    ")"
   ]
  },
  {
   "cell_type": "markdown",
   "metadata": {},
   "source": [
    "#### Regressão Logística - GridSearchCV:"
   ]
  },
  {
   "cell_type": "code",
   "execution_count": 28,
   "metadata": {},
   "outputs": [],
   "source": [
    "parametros = {\n",
    "    'penalty': ['l1', 'l2'],\n",
    "    'C': [0.1, 1, 10],\n",
    "    'solver': ['liblinear', 'saga']\n",
    "}\n"
   ]
  },
  {
   "cell_type": "code",
   "execution_count": 29,
   "metadata": {},
   "outputs": [
    {
     "name": "stderr",
     "output_type": "stream",
     "text": [
      "/home/guerrlr0/anaconda3/envs/.churn/lib/python3.11/site-packages/sklearn/linear_model/_sag.py:350: ConvergenceWarning: The max_iter was reached which means the coef_ did not converge\n",
      "  warnings.warn(\n",
      "/home/guerrlr0/anaconda3/envs/.churn/lib/python3.11/site-packages/sklearn/linear_model/_sag.py:350: ConvergenceWarning: The max_iter was reached which means the coef_ did not converge\n",
      "  warnings.warn(\n",
      "/home/guerrlr0/anaconda3/envs/.churn/lib/python3.11/site-packages/sklearn/linear_model/_sag.py:350: ConvergenceWarning: The max_iter was reached which means the coef_ did not converge\n",
      "  warnings.warn(\n",
      "/home/guerrlr0/anaconda3/envs/.churn/lib/python3.11/site-packages/sklearn/linear_model/_sag.py:350: ConvergenceWarning: The max_iter was reached which means the coef_ did not converge\n",
      "  warnings.warn(\n",
      "/home/guerrlr0/anaconda3/envs/.churn/lib/python3.11/site-packages/sklearn/linear_model/_sag.py:350: ConvergenceWarning: The max_iter was reached which means the coef_ did not converge\n",
      "  warnings.warn(\n",
      "/home/guerrlr0/anaconda3/envs/.churn/lib/python3.11/site-packages/sklearn/linear_model/_sag.py:350: ConvergenceWarning: The max_iter was reached which means the coef_ did not converge\n",
      "  warnings.warn(\n",
      "/home/guerrlr0/anaconda3/envs/.churn/lib/python3.11/site-packages/sklearn/linear_model/_sag.py:350: ConvergenceWarning: The max_iter was reached which means the coef_ did not converge\n",
      "  warnings.warn(\n",
      "/home/guerrlr0/anaconda3/envs/.churn/lib/python3.11/site-packages/sklearn/linear_model/_sag.py:350: ConvergenceWarning: The max_iter was reached which means the coef_ did not converge\n",
      "  warnings.warn(\n",
      "/home/guerrlr0/anaconda3/envs/.churn/lib/python3.11/site-packages/sklearn/linear_model/_sag.py:350: ConvergenceWarning: The max_iter was reached which means the coef_ did not converge\n",
      "  warnings.warn(\n",
      "/home/guerrlr0/anaconda3/envs/.churn/lib/python3.11/site-packages/sklearn/linear_model/_sag.py:350: ConvergenceWarning: The max_iter was reached which means the coef_ did not converge\n",
      "  warnings.warn(\n",
      "/home/guerrlr0/anaconda3/envs/.churn/lib/python3.11/site-packages/sklearn/linear_model/_sag.py:350: ConvergenceWarning: The max_iter was reached which means the coef_ did not converge\n",
      "  warnings.warn(\n",
      "/home/guerrlr0/anaconda3/envs/.churn/lib/python3.11/site-packages/sklearn/linear_model/_sag.py:350: ConvergenceWarning: The max_iter was reached which means the coef_ did not converge\n",
      "  warnings.warn(\n",
      "/home/guerrlr0/anaconda3/envs/.churn/lib/python3.11/site-packages/sklearn/linear_model/_sag.py:350: ConvergenceWarning: The max_iter was reached which means the coef_ did not converge\n",
      "  warnings.warn(\n",
      "/home/guerrlr0/anaconda3/envs/.churn/lib/python3.11/site-packages/sklearn/linear_model/_sag.py:350: ConvergenceWarning: The max_iter was reached which means the coef_ did not converge\n",
      "  warnings.warn(\n",
      "/home/guerrlr0/anaconda3/envs/.churn/lib/python3.11/site-packages/sklearn/linear_model/_sag.py:350: ConvergenceWarning: The max_iter was reached which means the coef_ did not converge\n",
      "  warnings.warn(\n",
      "/home/guerrlr0/anaconda3/envs/.churn/lib/python3.11/site-packages/sklearn/linear_model/_sag.py:350: ConvergenceWarning: The max_iter was reached which means the coef_ did not converge\n",
      "  warnings.warn(\n",
      "/home/guerrlr0/anaconda3/envs/.churn/lib/python3.11/site-packages/sklearn/linear_model/_sag.py:350: ConvergenceWarning: The max_iter was reached which means the coef_ did not converge\n",
      "  warnings.warn(\n",
      "/home/guerrlr0/anaconda3/envs/.churn/lib/python3.11/site-packages/sklearn/linear_model/_sag.py:350: ConvergenceWarning: The max_iter was reached which means the coef_ did not converge\n",
      "  warnings.warn(\n",
      "/home/guerrlr0/anaconda3/envs/.churn/lib/python3.11/site-packages/sklearn/linear_model/_sag.py:350: ConvergenceWarning: The max_iter was reached which means the coef_ did not converge\n",
      "  warnings.warn(\n",
      "/home/guerrlr0/anaconda3/envs/.churn/lib/python3.11/site-packages/sklearn/linear_model/_sag.py:350: ConvergenceWarning: The max_iter was reached which means the coef_ did not converge\n",
      "  warnings.warn(\n",
      "/home/guerrlr0/anaconda3/envs/.churn/lib/python3.11/site-packages/sklearn/linear_model/_sag.py:350: ConvergenceWarning: The max_iter was reached which means the coef_ did not converge\n",
      "  warnings.warn(\n",
      "/home/guerrlr0/anaconda3/envs/.churn/lib/python3.11/site-packages/sklearn/linear_model/_sag.py:350: ConvergenceWarning: The max_iter was reached which means the coef_ did not converge\n",
      "  warnings.warn(\n",
      "/home/guerrlr0/anaconda3/envs/.churn/lib/python3.11/site-packages/sklearn/linear_model/_sag.py:350: ConvergenceWarning: The max_iter was reached which means the coef_ did not converge\n",
      "  warnings.warn(\n",
      "/home/guerrlr0/anaconda3/envs/.churn/lib/python3.11/site-packages/sklearn/linear_model/_sag.py:350: ConvergenceWarning: The max_iter was reached which means the coef_ did not converge\n",
      "  warnings.warn(\n",
      "/home/guerrlr0/anaconda3/envs/.churn/lib/python3.11/site-packages/sklearn/linear_model/_sag.py:350: ConvergenceWarning: The max_iter was reached which means the coef_ did not converge\n",
      "  warnings.warn(\n",
      "/home/guerrlr0/anaconda3/envs/.churn/lib/python3.11/site-packages/sklearn/linear_model/_sag.py:350: ConvergenceWarning: The max_iter was reached which means the coef_ did not converge\n",
      "  warnings.warn(\n",
      "/home/guerrlr0/anaconda3/envs/.churn/lib/python3.11/site-packages/sklearn/linear_model/_sag.py:350: ConvergenceWarning: The max_iter was reached which means the coef_ did not converge\n",
      "  warnings.warn(\n",
      "/home/guerrlr0/anaconda3/envs/.churn/lib/python3.11/site-packages/sklearn/linear_model/_sag.py:350: ConvergenceWarning: The max_iter was reached which means the coef_ did not converge\n",
      "  warnings.warn(\n",
      "/home/guerrlr0/anaconda3/envs/.churn/lib/python3.11/site-packages/sklearn/linear_model/_sag.py:350: ConvergenceWarning: The max_iter was reached which means the coef_ did not converge\n",
      "  warnings.warn(\n",
      "/home/guerrlr0/anaconda3/envs/.churn/lib/python3.11/site-packages/sklearn/linear_model/_sag.py:350: ConvergenceWarning: The max_iter was reached which means the coef_ did not converge\n",
      "  warnings.warn(\n",
      "/home/guerrlr0/anaconda3/envs/.churn/lib/python3.11/site-packages/sklearn/linear_model/_sag.py:350: ConvergenceWarning: The max_iter was reached which means the coef_ did not converge\n",
      "  warnings.warn(\n"
     ]
    }
   ],
   "source": [
    "parameters, grid_search = churn_prediction.tunning_grid_search(\n",
    "    training=training,\n",
    "    parameters=parametros,\n",
    "    x_train=x_train,\n",
    "    y_train=y_train\n",
    ");"
   ]
  },
  {
   "cell_type": "code",
   "execution_count": 30,
   "metadata": {},
   "outputs": [
    {
     "name": "stdout",
     "output_type": "stream",
     "text": [
      "{'C': 0.1, 'class_weight': None, 'dual': False, 'fit_intercept': True, 'intercept_scaling': 1, 'l1_ratio': None, 'max_iter': 100, 'multi_class': 'auto', 'n_jobs': None, 'penalty': 'l1', 'random_state': None, 'solver': 'saga', 'tol': 0.0001, 'verbose': 0, 'warm_start': False}\n"
     ]
    }
   ],
   "source": [
    "print(parameters)"
   ]
  },
  {
   "cell_type": "markdown",
   "metadata": {},
   "source": [
    "#### Regressão Logística - Tunning:"
   ]
  },
  {
   "cell_type": "code",
   "execution_count": 31,
   "metadata": {},
   "outputs": [],
   "source": [
    "modelo = LogisticRegression(\n",
    "    C=0.1, \n",
    "    class_weight=None, \n",
    "    dual=False, \n",
    "    fit_intercept=True, \n",
    "    intercept_scaling=1, \n",
    "    l1_ratio=None, \n",
    "    max_iter=100, \n",
    "    multi_class='auto', \n",
    "    n_jobs=None, \n",
    "    penalty='l1', \n",
    "    random_state=None, \n",
    "    solver='saga', \n",
    "    tol=0.0001, \n",
    "    verbose=0, \n",
    "    warm_start=False\n",
    ")"
   ]
  },
  {
   "cell_type": "code",
   "execution_count": 32,
   "metadata": {},
   "outputs": [
    {
     "name": "stderr",
     "output_type": "stream",
     "text": [
      "/home/guerrlr0/anaconda3/envs/.churn/lib/python3.11/site-packages/sklearn/linear_model/_sag.py:350: ConvergenceWarning: The max_iter was reached which means the coef_ did not converge\n",
      "  warnings.warn(\n"
     ]
    }
   ],
   "source": [
    "training, y_pred, x_train, x_test, y_train, y_test = churn_prediction.training(\n",
    "    x=x,\n",
    "    y=y,\n",
    "    modelo=modelo\n",
    ");"
   ]
  },
  {
   "cell_type": "code",
   "execution_count": 33,
   "metadata": {},
   "outputs": [
    {
     "data": {
      "text/plain": [
       "<Figure size 4000x2000 with 0 Axes>"
      ]
     },
     "metadata": {},
     "output_type": "display_data"
    },
    {
     "data": {
      "image/png": "[encoded data removed]",
      "text/plain": [
       "<Figure size 640x480 with 2 Axes>"
      ]
     },
     "metadata": {},
     "output_type": "display_data"
    }
   ],
   "source": [
    "churn_prediction.gráfico_matrix_confusão(\n",
    "    training=training,\n",
    "    y_test=y_test,\n",
    "    x_test=x_test,\n",
    ");"
   ]
  },
  {
   "cell_type": "code",
   "execution_count": 34,
   "metadata": {},
   "outputs": [
    {
     "name": "stdout",
     "output_type": "stream",
     "text": [
      "Matriz de Confusão:\n",
      "[[5900    0]\n",
      " [1403    0]]\n",
      "Acurácia: 0.8078871696563056\n",
      "Precisão: 0.0\n",
      "Recall: 0.0\n",
      "F1-Score: 0.0\n",
      "AUC-ROC: 0.5\n"
     ]
    },
    {
     "name": "stderr",
     "output_type": "stream",
     "text": [
      "/home/guerrlr0/anaconda3/envs/.churn/lib/python3.11/site-packages/sklearn/metrics/_classification.py:1344: UndefinedMetricWarning: Precision is ill-defined and being set to 0.0 due to no predicted samples. Use `zero_division` parameter to control this behavior.\n",
      "  _warn_prf(average, modifier, msg_start, len(result))\n"
     ]
    }
   ],
   "source": [
    "churn_prediction.avaliar_desempenho(\n",
    "    y_true=y_test,\n",
    "    y_pred=y_pred\n",
    ")"
   ]
  },
  {
   "cell_type": "code",
   "execution_count": 35,
   "metadata": {},
   "outputs": [
    {
     "name": "stdout",
     "output_type": "stream",
     "text": [
      "Acurácia (Treino): 0.8064836368615638\n",
      "Acurácia (Teste): 0.8078871696563056\n",
      "====================================\n",
      "Acurácia Balanceada (Treino): 0.5\n",
      "Acurácia Balanceada (Teste): 0.5\n",
      "====================================\n",
      "Precision (Treino): 0.0\n",
      "Precision (Teste): 0.0\n",
      "====================================\n",
      "Recall (Treino): 0.0\n",
      "Recall (Teste): 0.0\n",
      "====================================\n",
      "F1-Score (Treino): 0.0\n",
      "F1-Score (Teste): 0.0\n",
      "====================================\n",
      "ROCAUC (Treino): 0.5021648040723409\n",
      "ROCAUC (Teste): 0.5039489230100149\n"
     ]
    },
    {
     "name": "stderr",
     "output_type": "stream",
     "text": [
      "/home/guerrlr0/anaconda3/envs/.churn/lib/python3.11/site-packages/sklearn/metrics/_classification.py:1344: UndefinedMetricWarning: Precision is ill-defined and being set to 0.0 due to no predicted samples. Use `zero_division` parameter to control this behavior.\n",
      "  _warn_prf(average, modifier, msg_start, len(result))\n",
      "/home/guerrlr0/anaconda3/envs/.churn/lib/python3.11/site-packages/sklearn/metrics/_classification.py:1344: UndefinedMetricWarning: Precision is ill-defined and being set to 0.0 due to no predicted samples. Use `zero_division` parameter to control this behavior.\n",
      "  _warn_prf(average, modifier, msg_start, len(result))\n"
     ]
    }
   ],
   "source": [
    "churn_prediction.métrica(\n",
    "    training=training,\n",
    "    x_train=x_train,\n",
    "    x_test=x_test,\n",
    "    y_train=y_train,\n",
    "    y_test=y_test,\n",
    ")"
   ]
  },
  {
   "cell_type": "markdown",
   "metadata": {},
   "source": [
    "### Random Forest:"
   ]
  },
  {
   "cell_type": "code",
   "execution_count": 36,
   "metadata": {},
   "outputs": [],
   "source": [
    "modelo = RandomForestClassifier()"
   ]
  },
  {
   "cell_type": "code",
   "execution_count": 37,
   "metadata": {},
   "outputs": [],
   "source": [
    "training, y_pred, x_train, x_test, y_train, y_test = churn_prediction.training(\n",
    "    x=x,\n",
    "    y=y,\n",
    "    modelo=modelo\n",
    ");"
   ]
  },
  {
   "cell_type": "code",
   "execution_count": 38,
   "metadata": {},
   "outputs": [
    {
     "data": {
      "text/plain": [
       "<Figure size 4000x2000 with 0 Axes>"
      ]
     },
     "metadata": {},
     "output_type": "display_data"
    },
    {
     "data": {
      "image/png": "[encoded data removed]",
      "text/plain": [
       "<Figure size 640x480 with 2 Axes>"
      ]
     },
     "metadata": {},
     "output_type": "display_data"
    }
   ],
   "source": [
    "churn_prediction.gráfico_matrix_confusão(\n",
    "    training=training,\n",
    "    y_test=y_test,\n",
    "    x_test=x_test,\n",
    ");"
   ]
  },
  {
   "cell_type": "code",
   "execution_count": 39,
   "metadata": {},
   "outputs": [
    {
     "name": "stdout",
     "output_type": "stream",
     "text": [
      "Acurácia (Treino): 0.994488566342599\n",
      "Acurácia (Teste): 0.8410242366150897\n",
      "====================================\n",
      "Acurácia Balanceada (Treino): 0.9888521373564323\n",
      "Acurácia Balanceada (Teste): 0.6245440762530654\n",
      "====================================\n",
      "Precision (Treino): 0.9917621776504298\n",
      "Precision (Teste): 0.7309160305343512\n",
      "====================================\n",
      "Recall (Treino): 0.9796568193879356\n",
      "Recall (Teste): 0.2729864575908767\n",
      "====================================\n",
      "F1-Score (Treino): 0.98567233247308\n",
      "F1-Score (Teste): 0.3975090814737935\n",
      "====================================\n",
      "ROCAUC (Treino): 0.9998053221998686\n",
      "ROCAUC (Teste): 0.6894868139700642\n"
     ]
    }
   ],
   "source": [
    "churn_prediction.métrica(\n",
    "    training=training,\n",
    "    x_train=x_train,\n",
    "    x_test=x_test,\n",
    "    y_train=y_train,\n",
    "    y_test=y_test,\n",
    ")"
   ]
  },
  {
   "cell_type": "markdown",
   "metadata": {},
   "source": [
    "#### Random Forest - RandomizedSearchCV:"
   ]
  },
  {
   "cell_type": "code",
   "execution_count": 40,
   "metadata": {},
   "outputs": [],
   "source": [
    "parametros = {\n",
    "    'max_depth': [1, 2, 3, 4, 5, 6, 7, 8, 9, 10]\n",
    "}"
   ]
  },
  {
   "cell_type": "code",
   "execution_count": 41,
   "metadata": {},
   "outputs": [],
   "source": [
    "parameters, grid_search = churn_prediction.tunning_grid_search(\n",
    "    training=training,\n",
    "    parameters=parametros,\n",
    "    x_train=x_train,\n",
    "    y_train=y_train\n",
    ");"
   ]
  },
  {
   "cell_type": "code",
   "execution_count": 42,
   "metadata": {},
   "outputs": [
    {
     "name": "stdout",
     "output_type": "stream",
     "text": [
      "{'bootstrap': True, 'ccp_alpha': 0.0, 'class_weight': None, 'criterion': 'gini', 'max_depth': 10, 'max_features': 'sqrt', 'max_leaf_nodes': None, 'max_samples': None, 'min_impurity_decrease': 0.0, 'min_samples_leaf': 1, 'min_samples_split': 2, 'min_weight_fraction_leaf': 0.0, 'n_estimators': 100, 'n_jobs': None, 'oob_score': False, 'random_state': None, 'verbose': 0, 'warm_start': False}\n"
     ]
    }
   ],
   "source": [
    "print(parameters)"
   ]
  },
  {
   "cell_type": "markdown",
   "metadata": {},
   "source": [
    "#### Random Forest - Tunning:"
   ]
  },
  {
   "cell_type": "code",
   "execution_count": 43,
   "metadata": {},
   "outputs": [],
   "source": [
    "modelo = RandomForestClassifier(\n",
    "    bootstrap=True,\n",
    "    ccp_alpha=0.0,\n",
    "    class_weight=None,\n",
    "    criterion='gini',\n",
    "    max_depth=10,\n",
    "    max_features='sqrt',\n",
    "    max_leaf_nodes=None,\n",
    "    max_samples=None,\n",
    "    min_impurity_decrease=0.0,\n",
    "    min_samples_leaf=1,\n",
    "    min_samples_split=2,\n",
    "    min_weight_fraction_leaf=0.0,\n",
    "    n_estimators=100,\n",
    "    n_jobs=None,\n",
    "    oob_score=False,\n",
    "    random_state=None,\n",
    "    verbose=0,\n",
    "    warm_start=False\n",
    ")"
   ]
  },
  {
   "cell_type": "code",
   "execution_count": 44,
   "metadata": {},
   "outputs": [],
   "source": [
    "training, y_pred, x_train, x_test, y_train, y_test = churn_prediction.training(\n",
    "    x=x,\n",
    "    y=y,\n",
    "    modelo=modelo\n",
    ");"
   ]
  },
  {
   "cell_type": "code",
   "execution_count": 45,
   "metadata": {},
   "outputs": [
    {
     "data": {
      "text/plain": [
       "<Figure size 4000x2000 with 0 Axes>"
      ]
     },
     "metadata": {},
     "output_type": "display_data"
    },
    {
     "data": {
      "image/png": "[encoded data removed]",
      "text/plain": [
       "<Figure size 640x480 with 2 Axes>"
      ]
     },
     "metadata": {},
     "output_type": "display_data"
    }
   ],
   "source": [
    "churn_prediction.gráfico_matrix_confusão(\n",
    "    training=training,\n",
    "    y_test=y_test,\n",
    "    x_test=x_test,\n",
    ");"
   ]
  },
  {
   "cell_type": "code",
   "execution_count": 46,
   "metadata": {},
   "outputs": [
    {
     "name": "stdout",
     "output_type": "stream",
     "text": [
      "Acurácia (Treino): 0.8075106120772285\n",
      "Acurácia (Teste): 0.808024099685061\n",
      "====================================\n",
      "Acurácia Balanceada (Treino): 0.5026534583407041\n",
      "Acurácia Balanceada (Teste): 0.5003563791874555\n",
      "====================================\n",
      "Precision (Treino): 1.0\n",
      "Precision (Teste): 1.0\n",
      "====================================\n",
      "Recall (Treino): 0.005306916681408102\n",
      "Recall (Teste): 0.0007127583749109052\n",
      "====================================\n",
      "F1-Score (Treino): 0.01055780397677283\n",
      "F1-Score (Teste): 0.0014245014245014246\n",
      "====================================\n",
      "ROCAUC (Treino): 0.8791644085220717\n",
      "ROCAUC (Teste): 0.5895406936709472\n"
     ]
    }
   ],
   "source": [
    "churn_prediction.métrica(\n",
    "    training=training,\n",
    "    x_train=x_train,\n",
    "    x_test=x_test,\n",
    "    y_train=y_train,\n",
    "    y_test=y_test,\n",
    ")"
   ]
  }
 ],
 "metadata": {
  "kernelspec": {
   "display_name": "Python 3 (ipykernel)",
   "language": "python",
   "name": "python3"
  },
  "language_info": {
   "codemirror_mode": {
    "name": "ipython",
    "version": 3
   },
   "file_extension": ".py",
   "mimetype": "text/x-python",
   "name": "python",
   "nbconvert_exporter": "python",
   "pygments_lexer": "ipython3",
   "version": "3.11.3"
  }
 },
 "nbformat": 4,
 "nbformat_minor": 2
}

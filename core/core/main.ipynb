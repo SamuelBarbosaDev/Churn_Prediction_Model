{
 "cells": [
  {
   "cell_type": "code",
   "execution_count": 1,
   "metadata": {},
   "outputs": [],
   "source": [
    "import numpy as np\n",
    "import pandas as pd\n",
    "from DataPreparetion import DataPreparetion"
   ]
  },
  {
   "attachments": {},
   "cell_type": "markdown",
   "metadata": {},
   "source": [
    "# Modelo de Previsão de Churn:"
   ]
  },
  {
   "attachments": {},
   "cell_type": "markdown",
   "metadata": {},
   "source": [
    "Preveja os usuários com alta chance de deixar seu Streaming:"
   ]
  },
  {
   "attachments": {},
   "cell_type": "markdown",
   "metadata": {},
   "source": [
    "## Dataframe:"
   ]
  },
  {
   "cell_type": "code",
   "execution_count": 2,
   "metadata": {},
   "outputs": [],
   "source": [
    "path = r'../data/streaming_data.csv'\n",
    "df = pd.read_csv(\n",
    "    filepath_or_buffer=path,\n",
    "    decimal='.',\n",
    "    sep=','\n",
    ")"
   ]
  },
  {
   "cell_type": "code",
   "execution_count": 3,
   "metadata": {},
   "outputs": [
    {
     "data": {
      "text/html": [
       "<div>\n",
       "<style scoped>\n",
       "    .dataframe tbody tr th:only-of-type {\n",
       "        vertical-align: middle;\n",
       "    }\n",
       "\n",
       "    .dataframe tbody tr th {\n",
       "        vertical-align: top;\n",
       "    }\n",
       "\n",
       "    .dataframe thead th {\n",
       "        text-align: right;\n",
       "    }\n",
       "</style>\n",
       "<table border=\"1\" class=\"dataframe\">\n",
       "  <thead>\n",
       "    <tr style=\"text-align: right;\">\n",
       "      <th></th>\n",
       "      <th>Age</th>\n",
       "      <th>Gender</th>\n",
       "      <th>Time_on_platform</th>\n",
       "      <th>Devices_connected</th>\n",
       "      <th>Subscription_type</th>\n",
       "      <th>Num_streaming_services</th>\n",
       "      <th>Num_active_profiles</th>\n",
       "      <th>Avg_rating</th>\n",
       "      <th>Churned</th>\n",
       "      <th>User_id</th>\n",
       "    </tr>\n",
       "  </thead>\n",
       "  <tbody>\n",
       "    <tr>\n",
       "      <th>0</th>\n",
       "      <td>49.0</td>\n",
       "      <td>Male</td>\n",
       "      <td>4700.0</td>\n",
       "      <td>3.0</td>\n",
       "      <td>Basic</td>\n",
       "      <td>NaN</td>\n",
       "      <td>3</td>\n",
       "      <td>NaN</td>\n",
       "      <td>0.0</td>\n",
       "      <td>a271aa56-bcfc-4f0a-91f7-b773de6b86a4</td>\n",
       "    </tr>\n",
       "    <tr>\n",
       "      <th>1</th>\n",
       "      <td>69.0</td>\n",
       "      <td>Female</td>\n",
       "      <td>6107.0</td>\n",
       "      <td>2.0</td>\n",
       "      <td>Standard</td>\n",
       "      <td>NaN</td>\n",
       "      <td>1</td>\n",
       "      <td>2.14</td>\n",
       "      <td>0.0</td>\n",
       "      <td>fe14b048-770b-4619-8ec6-485b0969ae31</td>\n",
       "    </tr>\n",
       "    <tr>\n",
       "      <th>2</th>\n",
       "      <td>44.0</td>\n",
       "      <td>Male</td>\n",
       "      <td>6374.0</td>\n",
       "      <td>3.0</td>\n",
       "      <td>Premium</td>\n",
       "      <td>1.0</td>\n",
       "      <td>1</td>\n",
       "      <td>1.91</td>\n",
       "      <td>1.0</td>\n",
       "      <td>0283dffd-6684-4a05-9c6f-c02098a6849d</td>\n",
       "    </tr>\n",
       "    <tr>\n",
       "      <th>3</th>\n",
       "      <td>26.0</td>\n",
       "      <td>Male</td>\n",
       "      <td>NaN</td>\n",
       "      <td>5.0</td>\n",
       "      <td>Basic</td>\n",
       "      <td>NaN</td>\n",
       "      <td>2</td>\n",
       "      <td>NaN</td>\n",
       "      <td>NaN</td>\n",
       "      <td>c316f2f5-3403-4a0a-82c2-c98e4b3379d2</td>\n",
       "    </tr>\n",
       "    <tr>\n",
       "      <th>4</th>\n",
       "      <td>18.0</td>\n",
       "      <td>NaN</td>\n",
       "      <td>1948.0</td>\n",
       "      <td>3.0</td>\n",
       "      <td>Basic</td>\n",
       "      <td>NaN</td>\n",
       "      <td>3</td>\n",
       "      <td>3.88</td>\n",
       "      <td>0.0</td>\n",
       "      <td>14879bcb-1977-4ad8-a7f9-6aa9bf7b872f</td>\n",
       "    </tr>\n",
       "  </tbody>\n",
       "</table>\n",
       "</div>"
      ],
      "text/plain": [
       "    Age  Gender  Time_on_platform  Devices_connected Subscription_type  \\\n",
       "0  49.0    Male            4700.0                3.0             Basic   \n",
       "1  69.0  Female            6107.0                2.0          Standard   \n",
       "2  44.0    Male            6374.0                3.0           Premium   \n",
       "3  26.0    Male               NaN                5.0             Basic   \n",
       "4  18.0     NaN            1948.0                3.0             Basic   \n",
       "\n",
       "   Num_streaming_services  Num_active_profiles  Avg_rating  Churned  \\\n",
       "0                     NaN                    3         NaN      0.0   \n",
       "1                     NaN                    1        2.14      0.0   \n",
       "2                     1.0                    1        1.91      1.0   \n",
       "3                     NaN                    2         NaN      NaN   \n",
       "4                     NaN                    3        3.88      0.0   \n",
       "\n",
       "                                User_id  \n",
       "0  a271aa56-bcfc-4f0a-91f7-b773de6b86a4  \n",
       "1  fe14b048-770b-4619-8ec6-485b0969ae31  \n",
       "2  0283dffd-6684-4a05-9c6f-c02098a6849d  \n",
       "3  c316f2f5-3403-4a0a-82c2-c98e4b3379d2  \n",
       "4  14879bcb-1977-4ad8-a7f9-6aa9bf7b872f  "
      ]
     },
     "metadata": {},
     "output_type": "display_data"
    }
   ],
   "source": [
    "display(df.head())"
   ]
  },
  {
   "attachments": {},
   "cell_type": "markdown",
   "metadata": {},
   "source": [
    "## Código:"
   ]
  },
  {
   "cell_type": "code",
   "execution_count": 4,
   "metadata": {},
   "outputs": [],
   "source": [
    "class ChurnPrediction(DataPreparetion):\n",
    "    pass\n",
    "\n",
    "if __name__ == '__main__':\n",
    "    churn_prediction = ChurnPrediction()"
   ]
  },
  {
   "attachments": {},
   "cell_type": "markdown",
   "metadata": {},
   "source": [
    "## Output:"
   ]
  },
  {
   "attachments": {},
   "cell_type": "markdown",
   "metadata": {},
   "source": [
    "### Data Understanding:"
   ]
  },
  {
   "cell_type": "code",
   "execution_count": 5,
   "metadata": {},
   "outputs": [
    {
     "data": {
      "text/html": [
       "<div>\n",
       "<style scoped>\n",
       "    .dataframe tbody tr th:only-of-type {\n",
       "        vertical-align: middle;\n",
       "    }\n",
       "\n",
       "    .dataframe tbody tr th {\n",
       "        vertical-align: top;\n",
       "    }\n",
       "\n",
       "    .dataframe thead th {\n",
       "        text-align: right;\n",
       "    }\n",
       "</style>\n",
       "<table border=\"1\" class=\"dataframe\">\n",
       "  <thead>\n",
       "    <tr style=\"text-align: right;\">\n",
       "      <th></th>\n",
       "      <th>Age</th>\n",
       "      <th>Gender</th>\n",
       "      <th>Time_on_platform</th>\n",
       "      <th>Devices_connected</th>\n",
       "      <th>Subscription_type</th>\n",
       "      <th>Num_streaming_services</th>\n",
       "      <th>Num_active_profiles</th>\n",
       "      <th>Avg_rating</th>\n",
       "      <th>Churned</th>\n",
       "      <th>User_id</th>\n",
       "    </tr>\n",
       "  </thead>\n",
       "  <tbody>\n",
       "    <tr>\n",
       "      <th>0</th>\n",
       "      <td>49.0</td>\n",
       "      <td>Male</td>\n",
       "      <td>4700.0</td>\n",
       "      <td>3.0</td>\n",
       "      <td>Basic</td>\n",
       "      <td>NaN</td>\n",
       "      <td>3</td>\n",
       "      <td>NaN</td>\n",
       "      <td>0.0</td>\n",
       "      <td>a271aa56-bcfc-4f0a-91f7-b773de6b86a4</td>\n",
       "    </tr>\n",
       "    <tr>\n",
       "      <th>1</th>\n",
       "      <td>69.0</td>\n",
       "      <td>Female</td>\n",
       "      <td>6107.0</td>\n",
       "      <td>2.0</td>\n",
       "      <td>Standard</td>\n",
       "      <td>NaN</td>\n",
       "      <td>1</td>\n",
       "      <td>2.14</td>\n",
       "      <td>0.0</td>\n",
       "      <td>fe14b048-770b-4619-8ec6-485b0969ae31</td>\n",
       "    </tr>\n",
       "    <tr>\n",
       "      <th>2</th>\n",
       "      <td>44.0</td>\n",
       "      <td>Male</td>\n",
       "      <td>6374.0</td>\n",
       "      <td>3.0</td>\n",
       "      <td>Premium</td>\n",
       "      <td>1.0</td>\n",
       "      <td>1</td>\n",
       "      <td>1.91</td>\n",
       "      <td>1.0</td>\n",
       "      <td>0283dffd-6684-4a05-9c6f-c02098a6849d</td>\n",
       "    </tr>\n",
       "  </tbody>\n",
       "</table>\n",
       "</div>"
      ],
      "text/plain": [
       "    Age  Gender  Time_on_platform  Devices_connected Subscription_type  \\\n",
       "0  49.0    Male            4700.0                3.0             Basic   \n",
       "1  69.0  Female            6107.0                2.0          Standard   \n",
       "2  44.0    Male            6374.0                3.0           Premium   \n",
       "\n",
       "   Num_streaming_services  Num_active_profiles  Avg_rating  Churned  \\\n",
       "0                     NaN                    3         NaN      0.0   \n",
       "1                     NaN                    1        2.14      0.0   \n",
       "2                     1.0                    1        1.91      1.0   \n",
       "\n",
       "                                User_id  \n",
       "0  a271aa56-bcfc-4f0a-91f7-b773de6b86a4  \n",
       "1  fe14b048-770b-4619-8ec6-485b0969ae31  \n",
       "2  0283dffd-6684-4a05-9c6f-c02098a6849d  "
      ]
     },
     "metadata": {},
     "output_type": "display_data"
    }
   ],
   "source": [
    "display(df.head(3))"
   ]
  },
  {
   "cell_type": "code",
   "execution_count": 6,
   "metadata": {},
   "outputs": [
    {
     "data": {
      "text/plain": [
       "Index(['Age', 'Gender', 'Time_on_platform', 'Devices_connected',\n",
       "       'Subscription_type', 'Num_streaming_services', 'Num_active_profiles',\n",
       "       'Avg_rating', 'Churned', 'User_id'],\n",
       "      dtype='object')"
      ]
     },
     "execution_count": 6,
     "metadata": {},
     "output_type": "execute_result"
    }
   ],
   "source": [
    "df.columns"
   ]
  },
  {
   "cell_type": "code",
   "execution_count": 7,
   "metadata": {},
   "outputs": [
    {
     "name": "stdout",
     "output_type": "stream",
     "text": [
      "Linhas: 77884 \n",
      "Colunas: 10\n"
     ]
    }
   ],
   "source": [
    "churn_prediction.verificando_as_dimensões_do_dataframe(\n",
    "    dataframe=df\n",
    ")"
   ]
  },
  {
   "cell_type": "code",
   "execution_count": 8,
   "metadata": {},
   "outputs": [
    {
     "data": {
      "text/html": [
       "<div>\n",
       "<style scoped>\n",
       "    .dataframe tbody tr th:only-of-type {\n",
       "        vertical-align: middle;\n",
       "    }\n",
       "\n",
       "    .dataframe tbody tr th {\n",
       "        vertical-align: top;\n",
       "    }\n",
       "\n",
       "    .dataframe thead th {\n",
       "        text-align: right;\n",
       "    }\n",
       "</style>\n",
       "<table border=\"1\" class=\"dataframe\">\n",
       "  <thead>\n",
       "    <tr style=\"text-align: right;\">\n",
       "      <th></th>\n",
       "      <th>Age</th>\n",
       "      <th>Time_on_platform</th>\n",
       "      <th>Devices_connected</th>\n",
       "      <th>Num_streaming_services</th>\n",
       "      <th>Num_active_profiles</th>\n",
       "      <th>Avg_rating</th>\n",
       "      <th>Churned</th>\n",
       "    </tr>\n",
       "  </thead>\n",
       "  <tbody>\n",
       "    <tr>\n",
       "      <th>count</th>\n",
       "      <td>66607.00</td>\n",
       "      <td>56464.00</td>\n",
       "      <td>52696.00</td>\n",
       "      <td>9572.00</td>\n",
       "      <td>77884.00</td>\n",
       "      <td>60614.00</td>\n",
       "      <td>61148.00</td>\n",
       "    </tr>\n",
       "    <tr>\n",
       "      <th>mean</th>\n",
       "      <td>43.51</td>\n",
       "      <td>4385.85</td>\n",
       "      <td>3.00</td>\n",
       "      <td>2.50</td>\n",
       "      <td>3.00</td>\n",
       "      <td>3.00</td>\n",
       "      <td>0.24</td>\n",
       "    </tr>\n",
       "    <tr>\n",
       "      <th>std</th>\n",
       "      <td>15.04</td>\n",
       "      <td>2526.58</td>\n",
       "      <td>1.41</td>\n",
       "      <td>1.12</td>\n",
       "      <td>1.41</td>\n",
       "      <td>1.15</td>\n",
       "      <td>0.43</td>\n",
       "    </tr>\n",
       "    <tr>\n",
       "      <th>min</th>\n",
       "      <td>18.00</td>\n",
       "      <td>0.00</td>\n",
       "      <td>1.00</td>\n",
       "      <td>1.00</td>\n",
       "      <td>1.00</td>\n",
       "      <td>1.00</td>\n",
       "      <td>0.00</td>\n",
       "    </tr>\n",
       "    <tr>\n",
       "      <th>25%</th>\n",
       "      <td>30.00</td>\n",
       "      <td>2196.00</td>\n",
       "      <td>2.00</td>\n",
       "      <td>1.00</td>\n",
       "      <td>2.00</td>\n",
       "      <td>1.99</td>\n",
       "      <td>0.00</td>\n",
       "    </tr>\n",
       "    <tr>\n",
       "      <th>50%</th>\n",
       "      <td>43.00</td>\n",
       "      <td>4384.00</td>\n",
       "      <td>3.00</td>\n",
       "      <td>2.00</td>\n",
       "      <td>3.00</td>\n",
       "      <td>3.01</td>\n",
       "      <td>0.00</td>\n",
       "    </tr>\n",
       "    <tr>\n",
       "      <th>75%</th>\n",
       "      <td>57.00</td>\n",
       "      <td>6573.00</td>\n",
       "      <td>4.00</td>\n",
       "      <td>4.00</td>\n",
       "      <td>4.00</td>\n",
       "      <td>4.00</td>\n",
       "      <td>0.00</td>\n",
       "    </tr>\n",
       "    <tr>\n",
       "      <th>max</th>\n",
       "      <td>69.00</td>\n",
       "      <td>8759.00</td>\n",
       "      <td>5.00</td>\n",
       "      <td>4.00</td>\n",
       "      <td>5.00</td>\n",
       "      <td>5.00</td>\n",
       "      <td>1.00</td>\n",
       "    </tr>\n",
       "  </tbody>\n",
       "</table>\n",
       "</div>"
      ],
      "text/plain": [
       "            Age  Time_on_platform  Devices_connected  Num_streaming_services  \\\n",
       "count  66607.00          56464.00           52696.00                 9572.00   \n",
       "mean      43.51           4385.85               3.00                    2.50   \n",
       "std       15.04           2526.58               1.41                    1.12   \n",
       "min       18.00              0.00               1.00                    1.00   \n",
       "25%       30.00           2196.00               2.00                    1.00   \n",
       "50%       43.00           4384.00               3.00                    2.00   \n",
       "75%       57.00           6573.00               4.00                    4.00   \n",
       "max       69.00           8759.00               5.00                    4.00   \n",
       "\n",
       "       Num_active_profiles  Avg_rating   Churned  \n",
       "count             77884.00    60614.00  61148.00  \n",
       "mean                  3.00        3.00      0.24  \n",
       "std                   1.41        1.15      0.43  \n",
       "min                   1.00        1.00      0.00  \n",
       "25%                   2.00        1.99      0.00  \n",
       "50%                   3.00        3.01      0.00  \n",
       "75%                   4.00        4.00      0.00  \n",
       "max                   5.00        5.00      1.00  "
      ]
     },
     "execution_count": 8,
     "metadata": {},
     "output_type": "execute_result"
    }
   ],
   "source": [
    "churn_prediction.descrição(\n",
    "    dataframe=df\n",
    ")"
   ]
  },
  {
   "cell_type": "code",
   "execution_count": 9,
   "metadata": {},
   "outputs": [
    {
     "data": {
      "text/html": [
       "<div>\n",
       "<style scoped>\n",
       "    .dataframe tbody tr th:only-of-type {\n",
       "        vertical-align: middle;\n",
       "    }\n",
       "\n",
       "    .dataframe tbody tr th {\n",
       "        vertical-align: top;\n",
       "    }\n",
       "\n",
       "    .dataframe thead th {\n",
       "        text-align: right;\n",
       "    }\n",
       "</style>\n",
       "<table border=\"1\" class=\"dataframe\">\n",
       "  <thead>\n",
       "    <tr style=\"text-align: right;\">\n",
       "      <th></th>\n",
       "      <th>Tipos</th>\n",
       "    </tr>\n",
       "  </thead>\n",
       "  <tbody>\n",
       "    <tr>\n",
       "      <th>Age</th>\n",
       "      <td>float64</td>\n",
       "    </tr>\n",
       "    <tr>\n",
       "      <th>Gender</th>\n",
       "      <td>object</td>\n",
       "    </tr>\n",
       "    <tr>\n",
       "      <th>Time_on_platform</th>\n",
       "      <td>float64</td>\n",
       "    </tr>\n",
       "    <tr>\n",
       "      <th>Devices_connected</th>\n",
       "      <td>float64</td>\n",
       "    </tr>\n",
       "    <tr>\n",
       "      <th>Subscription_type</th>\n",
       "      <td>object</td>\n",
       "    </tr>\n",
       "    <tr>\n",
       "      <th>Num_streaming_services</th>\n",
       "      <td>float64</td>\n",
       "    </tr>\n",
       "    <tr>\n",
       "      <th>Num_active_profiles</th>\n",
       "      <td>int64</td>\n",
       "    </tr>\n",
       "    <tr>\n",
       "      <th>Avg_rating</th>\n",
       "      <td>float64</td>\n",
       "    </tr>\n",
       "    <tr>\n",
       "      <th>Churned</th>\n",
       "      <td>float64</td>\n",
       "    </tr>\n",
       "    <tr>\n",
       "      <th>User_id</th>\n",
       "      <td>object</td>\n",
       "    </tr>\n",
       "  </tbody>\n",
       "</table>\n",
       "</div>"
      ],
      "text/plain": [
       "                          Tipos\n",
       "Age                     float64\n",
       "Gender                   object\n",
       "Time_on_platform        float64\n",
       "Devices_connected       float64\n",
       "Subscription_type        object\n",
       "Num_streaming_services  float64\n",
       "Num_active_profiles       int64\n",
       "Avg_rating              float64\n",
       "Churned                 float64\n",
       "User_id                  object"
      ]
     },
     "execution_count": 9,
     "metadata": {},
     "output_type": "execute_result"
    }
   ],
   "source": [
    "churn_prediction.verificando_tipos(\n",
    "    dataframe=df\n",
    ")"
   ]
  },
  {
   "cell_type": "code",
   "execution_count": 10,
   "metadata": {},
   "outputs": [
    {
     "data": {
      "text/html": [
       "<style type=\"text/css\">\n",
       "</style>\n",
       "<table id=\"T_a01ab\">\n",
       "  <thead>\n",
       "    <tr>\n",
       "      <th class=\"blank level0\" >&nbsp;</th>\n",
       "      <th id=\"T_a01ab_level0_col0\" class=\"col_heading level0 col0\" >Quantidade</th>\n",
       "      <th id=\"T_a01ab_level0_col1\" class=\"col_heading level0 col1\" >Porcentagem</th>\n",
       "    </tr>\n",
       "  </thead>\n",
       "  <tbody>\n",
       "    <tr>\n",
       "      <th id=\"T_a01ab_level0_row0\" class=\"row_heading level0 row0\" >Age</th>\n",
       "      <td id=\"T_a01ab_row0_col0\" class=\"data row0 col0\" >11277</td>\n",
       "      <td id=\"T_a01ab_row0_col1\" class=\"data row0 col1\" >14.48%</td>\n",
       "    </tr>\n",
       "    <tr>\n",
       "      <th id=\"T_a01ab_level0_row1\" class=\"row_heading level0 row1\" >Gender</th>\n",
       "      <td id=\"T_a01ab_row1_col0\" class=\"data row1 col0\" >14516</td>\n",
       "      <td id=\"T_a01ab_row1_col1\" class=\"data row1 col1\" >18.64%</td>\n",
       "    </tr>\n",
       "    <tr>\n",
       "      <th id=\"T_a01ab_level0_row2\" class=\"row_heading level0 row2\" >Time_on_platform</th>\n",
       "      <td id=\"T_a01ab_row2_col0\" class=\"data row2 col0\" >21420</td>\n",
       "      <td id=\"T_a01ab_row2_col1\" class=\"data row2 col1\" >27.50%</td>\n",
       "    </tr>\n",
       "    <tr>\n",
       "      <th id=\"T_a01ab_level0_row3\" class=\"row_heading level0 row3\" >Devices_connected</th>\n",
       "      <td id=\"T_a01ab_row3_col0\" class=\"data row3 col0\" >25188</td>\n",
       "      <td id=\"T_a01ab_row3_col1\" class=\"data row3 col1\" >32.34%</td>\n",
       "    </tr>\n",
       "    <tr>\n",
       "      <th id=\"T_a01ab_level0_row4\" class=\"row_heading level0 row4\" >Subscription_type</th>\n",
       "      <td id=\"T_a01ab_row4_col0\" class=\"data row4 col0\" >25221</td>\n",
       "      <td id=\"T_a01ab_row4_col1\" class=\"data row4 col1\" >32.38%</td>\n",
       "    </tr>\n",
       "    <tr>\n",
       "      <th id=\"T_a01ab_level0_row5\" class=\"row_heading level0 row5\" >Num_streaming_services</th>\n",
       "      <td id=\"T_a01ab_row5_col0\" class=\"data row5 col0\" >68312</td>\n",
       "      <td id=\"T_a01ab_row5_col1\" class=\"data row5 col1\" >87.71%</td>\n",
       "    </tr>\n",
       "    <tr>\n",
       "      <th id=\"T_a01ab_level0_row6\" class=\"row_heading level0 row6\" >Num_active_profiles</th>\n",
       "      <td id=\"T_a01ab_row6_col0\" class=\"data row6 col0\" >0</td>\n",
       "      <td id=\"T_a01ab_row6_col1\" class=\"data row6 col1\" >0.00%</td>\n",
       "    </tr>\n",
       "    <tr>\n",
       "      <th id=\"T_a01ab_level0_row7\" class=\"row_heading level0 row7\" >Avg_rating</th>\n",
       "      <td id=\"T_a01ab_row7_col0\" class=\"data row7 col0\" >17270</td>\n",
       "      <td id=\"T_a01ab_row7_col1\" class=\"data row7 col1\" >22.17%</td>\n",
       "    </tr>\n",
       "    <tr>\n",
       "      <th id=\"T_a01ab_level0_row8\" class=\"row_heading level0 row8\" >Churned</th>\n",
       "      <td id=\"T_a01ab_row8_col0\" class=\"data row8 col0\" >16736</td>\n",
       "      <td id=\"T_a01ab_row8_col1\" class=\"data row8 col1\" >21.49%</td>\n",
       "    </tr>\n",
       "    <tr>\n",
       "      <th id=\"T_a01ab_level0_row9\" class=\"row_heading level0 row9\" >User_id</th>\n",
       "      <td id=\"T_a01ab_row9_col0\" class=\"data row9 col0\" >0</td>\n",
       "      <td id=\"T_a01ab_row9_col1\" class=\"data row9 col1\" >0.00%</td>\n",
       "    </tr>\n",
       "  </tbody>\n",
       "</table>\n"
      ],
      "text/plain": [
       "<pandas.io.formats.style.Styler at 0x7f0103c04ed0>"
      ]
     },
     "execution_count": 10,
     "metadata": {},
     "output_type": "execute_result"
    }
   ],
   "source": [
    "churn_prediction.verificando_valores_nulos(\n",
    "    dataframe=df\n",
    ")"
   ]
  },
  {
   "attachments": {},
   "cell_type": "markdown",
   "metadata": {},
   "source": [
    "### Data Preparetion:"
   ]
  },
  {
   "cell_type": "code",
   "execution_count": 11,
   "metadata": {},
   "outputs": [],
   "source": [
    "df_copy = df.copy()"
   ]
  },
  {
   "cell_type": "code",
   "execution_count": 12,
   "metadata": {},
   "outputs": [],
   "source": [
    "colunas = [\n",
    "    'Time_on_platform', \n",
    "    'Num_streaming_services', \n",
    "    'Churned', \n",
    "    'Avg_rating', \n",
    "    'Devices_connected',\n",
    "]"
   ]
  },
  {
   "cell_type": "code",
   "execution_count": 13,
   "metadata": {},
   "outputs": [],
   "source": [
    "df[colunas] = churn_prediction.substituindo_valores(\n",
    "    dataframe=df,\n",
    "    colunas=colunas,\n",
    "    valores={\n",
    "        np.nan:  0,\n",
    "    }\n",
    ")"
   ]
  },
  {
   "cell_type": "code",
   "execution_count": 14,
   "metadata": {},
   "outputs": [],
   "source": [
    "colunas = ['Gender', 'Subscription_type', 'Age']"
   ]
  },
  {
   "cell_type": "code",
   "execution_count": 15,
   "metadata": {},
   "outputs": [],
   "source": [
    "df = churn_prediction.removendo_nulos(\n",
    "    dataframe=df,\n",
    "    colunas=colunas\n",
    ")"
   ]
  },
  {
   "cell_type": "code",
   "execution_count": 16,
   "metadata": {},
   "outputs": [],
   "source": [
    "df['Churned'] = churn_prediction.label_endcode(\n",
    "    dataframe=df['Churned']\n",
    ")"
   ]
  },
  {
   "cell_type": "code",
   "execution_count": 17,
   "metadata": {},
   "outputs": [],
   "source": [
    "colunas_float = df.select_dtypes(include='float').columns"
   ]
  },
  {
   "cell_type": "code",
   "execution_count": 18,
   "metadata": {},
   "outputs": [],
   "source": [
    "df[colunas_float] = churn_prediction.convertendo_colunas(\n",
    "    dataframe=df,\n",
    "    colunas=colunas_float,\n",
    "    tipo='int'\n",
    ")"
   ]
  }
 ],
 "metadata": {
  "kernelspec": {
   "display_name": ".churn",
   "language": "python",
   "name": "python3"
  },
  "language_info": {
   "codemirror_mode": {
    "name": "ipython",
    "version": 3
   },
   "file_extension": ".py",
   "mimetype": "text/x-python",
   "name": "python",
   "nbconvert_exporter": "python",
   "pygments_lexer": "ipython3",
   "version": "3.11.4"
  },
  "orig_nbformat": 4
 },
 "nbformat": 4,
 "nbformat_minor": 2
}
